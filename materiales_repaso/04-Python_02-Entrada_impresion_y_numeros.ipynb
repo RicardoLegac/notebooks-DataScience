{
 "cells": [
  {
   "cell_type": "markdown",
   "metadata": {},
   "source": [
    "### Leer y escribir en Python\n",
    "\n",
    "Cada programa es finalmente un procesador de datos, por lo que deberíamos saber cómo ingresar y generar datos dentro de él. Existe una función, *print()* , para generar datos desde cualquier programa de Python. Para usarlo, pase una lista de argumentos separados por comas que quiera imprimir a la función *print()*. "
   ]
  },
  {
   "cell_type": "code",
   "execution_count": null,
   "metadata": {},
   "outputs": [],
   "source": [
    "print(5 + 10)\n",
    "print(3 * 7, (17 - 2) * 8)\n",
    "print(2 ** 16)  # dos asteriscos son usados para exponenciación (2 a la potencia de 16)\n",
    "print(37 / 3)  # la barra diagonal simple es una división\n",
    "print(37 // 3)  # doble forward slashbarra diagonal es una división entera\n",
    "        # retorna solo el cociente de la división (i.e. no el resto)\n",
    "print(37 % 3)  # el signo porcentaje es un operador modulo\n",
    "        # da el resto del valor izquierdo dividido por el valor derecho"
   ]
  },
  {
   "cell_type": "markdown",
   "metadata": {},
   "source": [
    "Para ingresar datos en un programa, usamos input() . Esta función lee una sola línea de texto, como una cadena."
   ]
  },
  {
   "cell_type": "code",
   "execution_count": null,
   "metadata": {},
   "outputs": [],
   "source": [
    "print('Cuál es tu nombre?')\n",
    "nombre = input()  # lea una sola línea y guárdela en la variable &quot;nombre&quot;\n",
    "print('Hola ' + nombre + '!')"
   ]
  },
  {
   "cell_type": "markdown",
   "metadata": {},
   "source": [
    "### Suma de números y cadenas\n",
    "Tratemos de escribir un programa que ingrese dos números e imprima su suma. Leemos los dos números y los almacenamos en las variables a y b usando el operador de asignación = . En el lado izquierdo de un operador de asignación ponemos el nombre de la variable. El nombre podría ser una cadena de caracteres latinos ( AZ , az , 0-9 , _ ) pero debe comenzar con una letra en el rango AZ o az . En el lado derecho de un operador de asignación ponemos cualquier expresión que Python pueda evaluar. El nombre comienza a señalar el resultado de la evaluación. "
   ]
  },
  {
   "cell_type": "code",
   "execution_count": null,
   "metadata": {},
   "outputs": [],
   "source": [
    "a = input()\n",
    "b = input()\n",
    "s = a + b\n",
    "print(s)"
   ]
  },
  {
   "cell_type": "markdown",
   "metadata": {},
   "source": [
    "Después de ejecutar el ejemplo, podemos ver que si los numeros ingresados son 5 y 7, el programa imprime 57. Como nos enseñaron en la escuela, 5 + 7 da 12 . Entonces, el programa está equivocado, y es importante entender por qué. El asunto es que, en la tercera línea s = a + b Python ha \"sumado\" dos cadenas, en lugar de dos números. La suma de dos cadenas en Python funciona de la siguiente manera: simplemente están pegadas una tras otra. También a veces se llama \"concatenación de cadenas\". Para convertir (cast) la cadena de dígitos en un número entero, podemos usar la función int() . Por ejemplo, int('23') da un objeto int con valor 23 ."
   ]
  },
  {
   "cell_type": "code",
   "execution_count": null,
   "metadata": {},
   "outputs": [],
   "source": [
    "a = int(input())\n",
    "b = int(input())\n",
    "s = a + b\n",
    "print(s)"
   ]
  },
  {
   "cell_type": "markdown",
   "metadata": {},
   "source": [
    "Todos los valores en Python se llaman \"objetos\". Cada objeto tiene un cierto tipo. El número 2 corresponde a un objeto \"número 2\" de tipo \"int\" (es decir, un número entero). La cadena 'hello' corresponde a un objeto \"cadena 'hola'\" de tipo \"cadena\". Cada número de coma flotante se representa como un objeto de tipo \"flotante\". El tipo de objeto especifica qué tipo de operaciones se le pueden aplicar. Por ejemplo, si las dos variables \"first\" y \"second\" apuntan a los objetos de tipo int , Python puede multiplicarlos. Sin embargo, si están apuntando a los objetos de tipo str , Python no puede hacer eso:"
   ]
  },
  {
   "cell_type": "code",
   "execution_count": null,
   "metadata": {},
   "outputs": [],
   "source": [
    "first = 5\n",
    "second = 7\n",
    "print(first * second)\n",
    "\n",
    "# puedes usar comillas simples o dobles para definir una cadena\n",
    "first = '5'\n",
    "second = \"7\"\n",
    "# no se puede efectuar operación de multiplicación sobre dos strings\n",
    "try:\n",
    "    print(first * second)\n",
    "except:\n",
    "    print(\"no se puede efectuar operación de multiplicación sobre dos strings\")"
   ]
  },
  {
   "cell_type": "markdown",
   "metadata": {},
   "source": [
    "### EJERCICIOS\n",
    "\n",
    "1- Escriba un programa que lea tres números desde la entrada (teclado) e imprima su suma."
   ]
  },
  {
   "cell_type": "code",
   "execution_count": null,
   "metadata": {},
   "outputs": [],
   "source": []
  },
  {
   "cell_type": "markdown",
   "metadata": {},
   "source": [
    "2- Escriba un programa que salude a la persona imprimiendo la palabra \"Hola\" y el nombre de la persona que se ingresa por teclado."
   ]
  },
  {
   "cell_type": "code",
   "execution_count": null,
   "metadata": {},
   "outputs": [],
   "source": []
  },
  {
   "cell_type": "markdown",
   "metadata": {},
   "source": [
    "3- Escriba un programa que tome un número e imprima su cuadrado."
   ]
  },
  {
   "cell_type": "code",
   "execution_count": null,
   "metadata": {},
   "outputs": [],
   "source": []
  },
  {
   "cell_type": "markdown",
   "metadata": {},
   "source": [
    "4- Escriba un programa que lea la longitud de la base y la altura de un triángulo rectángulo e imprima el área. Cada número se ingresa en una línea separada."
   ]
  },
  {
   "cell_type": "code",
   "execution_count": null,
   "metadata": {},
   "outputs": [],
   "source": []
  },
  {
   "cell_type": "markdown",
   "metadata": {},
   "source": [
    "5- N estudiantes toman K manzanas y las distribuyen entre ellos de manera uniforme. La parte restante (la indivisible) permanece en la cesta. ¿Cuántas manzanas obtendrá cada estudiante? ¿Cuántas manzanas quedarán en la canasta? El programa lee los números N y K. Debe imprimir las dos respuestas para las preguntas anteriores."
   ]
  },
  {
   "cell_type": "code",
   "execution_count": null,
   "metadata": {},
   "outputs": [],
   "source": []
  }
 ],
 "metadata": {
  "kernelspec": {
   "display_name": "Python 3",
   "language": "python",
   "name": "python3"
  },
  "language_info": {
   "codemirror_mode": {
    "name": "ipython",
    "version": 3
   },
   "file_extension": ".py",
   "mimetype": "text/x-python",
   "name": "python",
   "nbconvert_exporter": "python",
   "pygments_lexer": "ipython3",
   "version": "3.8.8"
  }
 },
 "nbformat": 4,
 "nbformat_minor": 2
}
