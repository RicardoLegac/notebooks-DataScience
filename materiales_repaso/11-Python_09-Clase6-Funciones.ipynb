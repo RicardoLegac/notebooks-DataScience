{
 "cells": [
  {
   "cell_type": "markdown",
   "metadata": {},
   "source": [
    "# Funciones"
   ]
  },
  {
   "cell_type": "markdown",
   "metadata": {},
   "source": [
    "Recuerde que en matemáticas el factorial de un número n se define como n! = 1 ⋅ 2 ⋅ ... ⋅ n (como el producto de todos los números enteros de 1 a n). Por ejemplo, 5! = 1 ⋅ 2 ⋅ 3 ⋅ 4 ⋅ 5 = 120. Está claro que factorial es fácil de calcular, usando un bucle ``for``. Imagine que necesitamos en nuestro programa calcular el factorial de varios números varias veces (o en diferentes lugares de código). Por supuesto, puede escribir el cálculo del factorial una vez y luego usar Copiar y Pegar para insertarlo donde lo necesite:"
   ]
  },
  {
   "cell_type": "code",
   "execution_count": null,
   "metadata": {},
   "outputs": [],
   "source": [
    "# calcular 3!\n",
    "res = 1\n",
    "for i in range(1, 4):\n",
    "    res *= i\n",
    "print(res)\n",
    "\n",
    "# calcular 5!\n",
    "res = 1\n",
    "for i in range(1, 6):\n",
    "    res *= i\n",
    "print(res)"
   ]
  },
  {
   "cell_type": "markdown",
   "metadata": {},
   "source": [
    "Sin embargo, si cometemos un error en el código inicial, este código erróneo aparecerá en todos los lugares donde hemos copiado el cálculo de factorial. Además, el código es más largo de lo que podría ser. Para evitar volver a escribir la misma lógica los lenguajes de programación usan funciones.\n",
    "\n",
    "Las funciones son las secciones de código que están aisladas del resto del programa y se ejecutan solo cuando se las llama. Ya conociste las funciones ``len()`` y ``print()`` . Todos tienen algo en común: pueden tomar parámetros (cero, uno o varios) y pueden devolver un valor (aunque es posible que no). Por ejemplo, la función ``len()`` acepta un parámetro y devuelve un valor (la longitud de una colección de datos). La función ``print()`` puede tomar varios números de argumentos y no devuelve nada.\n",
    "\n",
    "A continuación, se muestra una función llamada ``factorial()`` que toma un único parámetro - el número, y devuelve un valor - el factorial de ese número."
   ]
  },
  {
   "cell_type": "code",
   "execution_count": null,
   "metadata": {},
   "outputs": [],
   "source": [
    "def factorial(n):\n",
    "    res = 1\n",
    "    for i in range(1, n + 1):\n",
    "        res *= i\n",
    "    return res\n",
    "\n",
    "print(factorial(3))\n",
    "print(factorial(5))"
   ]
  },
  {
   "cell_type": "markdown",
   "metadata": {},
   "source": [
    "Se debe tener en cuenta los siguiente: primero, el código de función debe colocarse al principio del programa (antes del lugar donde queremos usar la función ``factorial()`` , para ser precisos). La primera línea def ``factorial(n):`` de este ejemplo es una descripción de nuestra función; la palabra factorial es un identificador (el nombre de nuestra función). Justo después del identificador, aparece la lista de parámetros que recibe nuestra función (entre paréntesis). La lista consta de identificadores de los parámetros separados por comas; en nuestro caso, la lista consta de un parámetro ``n`` . Al final de la linea, se escribe dos puntos.\n",
    "\n",
    "Luego va el cuerpo de la función. En Python, el cuerpo debe estar indentado (mediante tabulador o cuatro espacios, como siempre). Esta función calcula el valor de ``n!`` y lo almacena en la variable ``res`` . La última línea de la función es ``return res`` , que sale de la función y devuelve el valor de la variable ``res`` .\n",
    "\n",
    "La declaración de ``return`` puede aparecer en cualquier lugar de una función. Su ejecución sale de la función y devuelve el valor especificado al lugar donde se llamó a la función. Si la función no devuelve un valor, la declaración de retorno no devolverá realmente ningún valor (aunque todavía se puede usar). Algunas funciones no necesitan devolver valores, y la declaración de retorno se puede omitir.\n",
    "\n",
    "Otro ejemplo. Aquí está la ``función max()`` que acepta dos números y devuelve el máximo de ellos (en realidad, esta función ya se ha convertido en parte de la sintaxis de Python)."
   ]
  },
  {
   "cell_type": "code",
   "execution_count": null,
   "metadata": {},
   "outputs": [],
   "source": [
    "def max(a, b):\n",
    "    if a > b:\n",
    "        return a\n",
    "    else:\n",
    "        return b\n",
    "\n",
    "print(max(3, 5))\n",
    "print(max(5, 3))\n",
    "print(max(int(input()), int(input())))"
   ]
  },
  {
   "cell_type": "markdown",
   "metadata": {},
   "source": [
    "Ahora puede escribir una función max3() que toma tres números y devuelve el máximo de ellos."
   ]
  },
  {
   "cell_type": "code",
   "execution_count": null,
   "metadata": {},
   "outputs": [],
   "source": [
    "def max(a, b):\n",
    "    if a > b:\n",
    "        return a\n",
    "    else:\n",
    "        return b\n",
    "\n",
    "def max3(a, b, c):\n",
    "    return max(max(a, b), c)\n",
    "\n",
    "print(max3(3, 5, 4))"
   ]
  },
  {
   "cell_type": "markdown",
   "metadata": {},
   "source": [
    "### EJERCICIOS"
   ]
  },
  {
   "cell_type": "markdown",
   "metadata": {},
   "source": [
    "1- Escribir una función que calcule el área de un círculo y retorne el valor calculado."
   ]
  },
  {
   "cell_type": "code",
   "execution_count": null,
   "metadata": {},
   "outputs": [],
   "source": [
    "def area_circulo(radio):\n",
    "    pi = 3.14\n",
    "    return pi*radio**2\n",
    "\n",
    "print(area_circulo(3))\n",
    "print(area_circulo(5))"
   ]
  },
  {
   "cell_type": "code",
   "execution_count": null,
   "metadata": {},
   "outputs": [],
   "source": [
    "# retornando dos valores\n",
    "def calculo_circulo(radio):\n",
    "    pi = 3.14\n",
    "    area = pi*radio**2\n",
    "    cia = 2*pi*radio\n",
    "    return (area, cia)\n",
    "\n",
    "(a,b) = calculo_circulo(5)\n",
    "print((a,b))"
   ]
  },
  {
   "cell_type": "markdown",
   "metadata": {},
   "source": [
    "2- Dado un número real positivo a y entero n. Calcular a^n. Escriba una  función de potencia(a, n) para calcular los resultados e imprima el resultado de la expresión."
   ]
  },
  {
   "cell_type": "code",
   "execution_count": null,
   "metadata": {},
   "outputs": [],
   "source": [
    "def potencia(a,n):\n",
    "    \"\"\"\n",
    "    Recibe como parametro un numero real positivo y un numero entero n\n",
    "    Retorna la potencia de ese numero elevado a la n\n",
    "    \"\"\"\n",
    "    return a**n\n",
    "\n",
    "print(potencia(1.5,2))"
   ]
  },
  {
   "cell_type": "markdown",
   "metadata": {},
   "source": [
    "3- Escriba una función que dados dos números imprima todos los números que hay entre ellos."
   ]
  },
  {
   "cell_type": "code",
   "execution_count": null,
   "metadata": {},
   "outputs": [],
   "source": [
    "def imprimir_numeros(num1, num2):\n",
    "    for i in range(num1+1, num2):\n",
    "        print(i)\n",
    "        \n",
    "imprimir_numeros(1,5)"
   ]
  },
  {
   "cell_type": "markdown",
   "metadata": {},
   "source": [
    "4- Escriba una función que calcule el area de un triangulo, recibiendo como parámetros su base y su altura."
   ]
  },
  {
   "cell_type": "code",
   "execution_count": null,
   "metadata": {},
   "outputs": [],
   "source": [
    "def area_triangulo(base, altura):\n",
    "    return base*altura/2\n",
    "\n",
    "print(area_triangulo(2,5))"
   ]
  }
 ],
 "metadata": {
  "kernelspec": {
   "display_name": "Python 3",
   "language": "python",
   "name": "python3"
  },
  "language_info": {
   "codemirror_mode": {
    "name": "ipython",
    "version": 3
   },
   "file_extension": ".py",
   "mimetype": "text/x-python",
   "name": "python",
   "nbconvert_exporter": "python",
   "pygments_lexer": "ipython3",
   "version": "3.8.8"
  }
 },
 "nbformat": 4,
 "nbformat_minor": 2
}
