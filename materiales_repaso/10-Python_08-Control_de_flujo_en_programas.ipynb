{
 "cells": [
  {
   "cell_type": "markdown",
   "metadata": {},
   "source": [
    "# Control de Flujo en los programas"
   ]
  },
  {
   "cell_type": "markdown",
   "metadata": {},
   "source": [
    "## Usando while"
   ]
  },
  {
   "cell_type": "markdown",
   "metadata": {},
   "source": [
    "A continuación se presentan algunos programas cortos en Python. Responde cual es la salida de cada programa. Intenta responder las preguntas sin ejecutar el código.\n",
    "\n",
    "¿Qué imprimen estos loops simples?"
   ]
  },
  {
   "cell_type": "code",
   "execution_count": null,
   "metadata": {},
   "outputs": [],
   "source": [
    "# Primer loop\n",
    "num = 0 \n",
    "while num <= 5: \n",
    "    print(num) \n",
    "    num += 1 \n",
    "\n",
    "print(\"Fuera del loop\") \n",
    "print(num)"
   ]
  },
  {
   "cell_type": "code",
   "execution_count": null,
   "metadata": {},
   "outputs": [],
   "source": [
    "# Segundo loop\n",
    "numeroDeLoops = 0 \n",
    "numeroDeMazanas = 2 \n",
    "while numeroDeLoops < 10: \n",
    "    numeroDeMazanas *= 2 \n",
    "    numeroDeMazanas += numeroDeLoops \n",
    "    numeroDeLoops -= 1 \n",
    "    \n",
    "print(\"Number of apples: \" + str(numeroDeMazanas))"
   ]
  },
  {
   "cell_type": "code",
   "execution_count": null,
   "metadata": {},
   "outputs": [],
   "source": [
    "# Tercer loop\n",
    "num = 10 \n",
    "while num > 3: \n",
    "    num -= 1 \n",
    "    print(num)"
   ]
  },
  {
   "cell_type": "code",
   "execution_count": null,
   "metadata": {},
   "outputs": [],
   "source": [
    "# Cuarto loop\n",
    "num = 10 \n",
    "while True: \n",
    "    if num < 7: \n",
    "        print('Romper el loop') \n",
    "        break \n",
    "    print(num) \n",
    "    num -= 1 \n",
    "\n",
    "print('Fuera del loop')"
   ]
  },
  {
   "cell_type": "code",
   "execution_count": null,
   "metadata": {},
   "outputs": [],
   "source": [
    "# Quinto loop\n",
    "num = 100 \n",
    "while not False: \n",
    "    if num < 0: \n",
    "        break \n",
    "        \n",
    "print('num is: ' + str(num))"
   ]
  },
  {
   "cell_type": "markdown",
   "metadata": {},
   "source": [
    "## Usando for"
   ]
  },
  {
   "cell_type": "markdown",
   "metadata": {},
   "source": [
    "Convierta los siguientes resultados en códigos que usen un loop for"
   ]
  },
  {
   "cell_type": "markdown",
   "metadata": {},
   "source": [
    "*Primer resultado*\n",
    "\n",
    "``2``\n",
    "\n",
    "``4``\n",
    "\n",
    "``6``\n",
    "\n",
    "``8``\n",
    "\n",
    "``\"Fin!\"``"
   ]
  },
  {
   "cell_type": "code",
   "execution_count": null,
   "metadata": {},
   "outputs": [],
   "source": []
  },
  {
   "cell_type": "markdown",
   "metadata": {},
   "source": [
    "*Segundo resultado*\n",
    "\n",
    "``\"Hola!\"``\n",
    "\n",
    "``10``\n",
    "\n",
    "``8``\n",
    "\n",
    "``6``\n",
    "\n",
    "``4``\n",
    "\n",
    "``2``"
   ]
  },
  {
   "cell_type": "code",
   "execution_count": null,
   "metadata": {},
   "outputs": [],
   "source": []
  },
  {
   "cell_type": "markdown",
   "metadata": {},
   "source": [
    "## Ejercicios usando for"
   ]
  },
  {
   "cell_type": "markdown",
   "metadata": {},
   "source": [
    "1- Escribir un programa que cuente la cantidad de vocales contenidas en el string s. Por ejemplo. Si s = 'azcbobobegghakl', el programa debe imprimir Número de vocales: 5"
   ]
  },
  {
   "cell_type": "code",
   "execution_count": null,
   "metadata": {},
   "outputs": [],
   "source": [
    "# string\n"
   ]
  },
  {
   "cell_type": "markdown",
   "metadata": {},
   "source": [
    "2- Ingresar un número por teclado y guardar en una lista su tabla de multiplicar hasta 10.\n",
    "Obs. Para agregar un elemento a una lista de nombre ``L`` usar el metodo append, ``L.append``"
   ]
  },
  {
   "cell_type": "code",
   "execution_count": null,
   "metadata": {},
   "outputs": [],
   "source": [
    "# listas\n"
   ]
  },
  {
   "cell_type": "markdown",
   "metadata": {},
   "source": [
    "### Diccionarios\n",
    "\n",
    "Crear un diccionario vacío ``vocales = {}``\n",
    "\n",
    "Crear un dicionario con valores ``vocales={'a':2, 'e':3, 'i':2, 'o':1}``\n",
    "\n",
    "Agregar un elemento al diccionario vocales ``vocales['u'] = 3`` \n",
    "\n",
    "El método ``get(clave, valor)`` El primer argumento es la clave; el segundo argumento es el valor que debe devolver ``get`` en caso de que la clave no esté en el diccionario. \n",
    "\n",
    "Ejemplo: ``vocales.get('b',0)`` retorna 0 por que 'b' no se encuentra en vocales"
   ]
  },
  {
   "cell_type": "markdown",
   "metadata": {},
   "source": [
    "3- Escribir un programa que cuente el número de apariciones de cada letra contenida en el string s. Guarde el resultado en un diccionario, donde la clave es la letra y el valor la frecuencia de aparición.\n",
    "Ejemplo: s='Mississippi' \n",
    "cuentaLetras = {'M': 1, 'i': 4, 's': 4, 'p': 2}"
   ]
  },
  {
   "cell_type": "code",
   "execution_count": 2,
   "metadata": {},
   "outputs": [],
   "source": [
    "# Diccionario\n",
    "cuentaLetras = {}\n",
    "for letra in \"Mississippi\":\n",
    "    cuentaLetras[letra] = cuentaLetras.get(letra,0) + 1\n",
    "    \n",
    "print(cuentaLetras)"
   ]
  },
  {
   "cell_type": "markdown",
   "metadata": {},
   "source": [
    "4- Escribir un programa que almacene el diccionario con los créditos de las asignaturas de un curso {'Matemáticas': 6, 'Física': 4, 'Química': 5} y después muestre por pantalla los créditos de cada asignatura en el formato <asignatura> tiene <créditos> créditos, donde <asignatura> es cada una de las asignaturas del curso, y <créditos> son sus créditos. Al final debe mostrar también el número total de créditos del curso."
   ]
  },
  {
   "cell_type": "code",
   "execution_count": null,
   "metadata": {},
   "outputs": [],
   "source": []
  }
 ],
 "metadata": {
  "kernelspec": {
   "display_name": "Python 3",
   "language": "python",
   "name": "python3"
  },
  "language_info": {
   "codemirror_mode": {
    "name": "ipython",
    "version": 3
   },
   "file_extension": ".py",
   "mimetype": "text/x-python",
   "name": "python",
   "nbconvert_exporter": "python",
   "pygments_lexer": "ipython3",
   "version": "3.8.8"
  }
 },
 "nbformat": 4,
 "nbformat_minor": 2
}
