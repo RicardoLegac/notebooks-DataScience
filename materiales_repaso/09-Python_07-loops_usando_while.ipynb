{
 "cells": [
  {
   "cell_type": "markdown",
   "metadata": {},
   "source": [
    "# Bucles o loops usando while\n",
    "\n",
    "El operador ``while`` permite repetir la secuencia de acciones muchas veces hasta que alguna condición se evalúa como ``False`` . La condición se da antes del cuerpo del bucle y se verifica antes de cada ejecución del cuerpo del bucle. Típicamente, el ``while`` se utiliza cuando es imposible determinar el número exacto de iteraciones del bucle de antemano.\n",
    "\n",
    "La sintaxis del ``while`` en el caso más simple es el siguiente:"
   ]
  },
  {
   "cell_type": "markdown",
   "metadata": {},
   "source": [
    "while alguna_condicion:\n",
    "    bloque de instrucciones"
   ]
  },
  {
   "cell_type": "markdown",
   "metadata": {},
   "source": [
    "Python primero verifica la condición. Si es falsa, entonces el bucle se termina y el control se pasa a la siguiente instrucción después del ``while``. Si la condición es Verdadera, se ejecuta el cuerpo del bucle y luego se vuelve a verificar la condición. Esto continúa mientras la condición es Verdadera. Una vez que la condición se convierte en Falsa, el ciclo finaliza y el control pasa a la siguiente instrucción después del ciclo.\n",
    "\n",
    "Por ejemplo, el siguiente fragmento de programa imprime los cuadrados de todos los enteros de 1 a 10."
   ]
  },
  {
   "cell_type": "code",
   "execution_count": null,
   "metadata": {},
   "outputs": [],
   "source": [
    "i = 1\n",
    "while i <= 10:\n",
    "    print(i ** 2)\n",
    "    i += 1"
   ]
  },
  {
   "cell_type": "markdown",
   "metadata": {},
   "source": [
    "En este ejemplo, la variable i dentro del ciclo itera de 1 a 10. Dicha variable cuyo valor cambia con cada nueva iteración de bucle se denomina contador. Tenga en cuenta que después de ejecutar este fragmento, el valor de la variable i se define y es igual a 11 , porque cuando i == 11 la condición i <= 10 es ``False`` por primera vez.\n",
    "\n",
    "Este es otro ejemplo del uso del while para determinar el número de dígitos de un número entero n :"
   ]
  },
  {
   "cell_type": "code",
   "execution_count": 3,
   "metadata": {},
   "outputs": [
    {
     "name": "stdout",
     "output_type": "stream",
     "text": [
      "5\n",
      "1\n"
     ]
    }
   ],
   "source": [
    "n = int(input())\n",
    "length = 0\n",
    "while n > 0:\n",
    "    n //= 10  # esto es equivalente a n = n // 10\n",
    "    length += 1\n",
    "print(length)  # 4"
   ]
  },
  {
   "cell_type": "markdown",
   "metadata": {},
   "source": [
    "En cada iteración cortamos el último dígito del número usando la división de enteros por 10 ( n //= 10 ). En la variable length, contamos cuántas veces lo hicimos.\n",
    "\n",
    "En Python hay otra manera más fácil de resolver este problema: length = len(str(i)) .\n",
    "\n",
    "\n",
    " \n",
    "2. Flujo de control de lazo: else\n",
    "Se puede escribir una instrucción else: después de un cuerpo de bucle que se ejecuta una vez después del final del bucle:"
   ]
  },
  {
   "cell_type": "code",
   "execution_count": 2,
   "metadata": {},
   "outputs": [
    {
     "name": "stdout",
     "output_type": "stream",
     "text": [
      "1\n",
      "2\n",
      "3\n",
      "4\n",
      "5\n",
      "6\n",
      "7\n",
      "8\n",
      "9\n",
      "10\n",
      "Fin del loop, i = 11\n"
     ]
    }
   ],
   "source": [
    "i = 1\n",
    "while i <= 10:\n",
    "    print(i)\n",
    "    i += 1\n",
    "else:\n",
    "    print('Fin del loop, i =', i)"
   ]
  },
  {
   "cell_type": "markdown",
   "metadata": {},
   "source": [
    "A primera vista, esta afirmación no parece tener sentido, porque el cuerpo de declaración ``else``: puede simplemente colocarse después del final del ciclo. La instrucción ``else`` después de un ciclo solo tiene sentido cuando se usa en combinación con la instrucción ``break``. Si durante la ejecución del bucle, el intérprete de Python encuentra un ``break`` , inmediatamente detiene la ejecución del bucle y sale de él. En este caso, el bloque ``else``: no se ejecuta. Entonces, ``break`` se usa para abortar la ejecución del bucle durante la mitad de cualquier iteración.\n",
    "\n",
    "Ejemplo de Black Jack: programa que lee números y los suma hasta que el total sea mayor o igual a 21. La secuencia de entrada finaliza con 0 para que el programa pueda detenerse incluso si la suma total de todos los números es menor que 21.\n",
    "\n",
    "- Versión 1. El ciclo se sale normalmente después de verificar la condición, por lo que se ejecuta el bloque ``else``."
   ]
  },
  {
   "cell_type": "code",
   "execution_count": null,
   "metadata": {},
   "outputs": [],
   "source": [
    "total_sum = 0\n",
    "a = int(input())\n",
    "while a != 0:\n",
    "    total_sum += a\n",
    "    if total_sum >= 21:\n",
    "        print('Total sum is', total_sum)\n",
    "        break\n",
    "    a = int(input())\n",
    "else:\n",
    "    print('Total sum is less than 21 and is equal to', total_sum, '.')"
   ]
  },
  {
   "cell_type": "markdown",
   "metadata": {},
   "source": [
    "- Versión 2. El ciclo se cancela por ``break`` , por lo que se omite el bloque ``else``."
   ]
  },
  {
   "cell_type": "code",
   "execution_count": null,
   "metadata": {},
   "outputs": [],
   "source": [
    "total_sum = 0\n",
    "a = int(input())\n",
    "while a != 0:\n",
    "    total_sum += a\n",
    "    if total_sum >= 21:\n",
    "        print('Total sum is', total_sum)\n",
    "        break\n",
    "    a = int(input())\n",
    "else:\n",
    "    print('Total sum is less than 21 and is equal to', total_sum, '.')"
   ]
  },
  {
   "cell_type": "markdown",
   "metadata": {},
   "source": [
    "### EJERCICIOS"
   ]
  },
  {
   "cell_type": "markdown",
   "metadata": {},
   "source": [
    "1- Escriba un programa que pida dos números enteros. El programa pedirá de nuevo el segundo número mientras no sea mayor que el primero. El programa terminará escribiendo los dos números.\n",
    "\n",
    "Ejemplo:\n",
    "NÚMERO MAYOR\n",
    "\n",
    "    Escriba un número: 6\n",
    "    \n",
    "    Escriba un número mayor que 6: 6\n",
    "    \n",
    "    6 no es mayor que 6. Inténtelo de nuevo: 1\n",
    "    \n",
    "    1 no es mayor que 6. Inténtelo de nuevo: 8\n",
    "\n",
    "    Los números que ha escrito son 6 y 8."
   ]
  },
  {
   "cell_type": "code",
   "execution_count": null,
   "metadata": {},
   "outputs": [],
   "source": []
  },
  {
   "cell_type": "markdown",
   "metadata": {},
   "source": [
    "2- Escribir un programa que muestre el eco de todo lo que el usuario introduzca hasta que el usuario escriba “salir” que terminará.\n",
    "\n",
    "- ingresar una palabra\n",
    "- mientras la palabra no es \"salir\"\n",
    "- imprimir la palabra"
   ]
  },
  {
   "cell_type": "code",
   "execution_count": null,
   "metadata": {},
   "outputs": [],
   "source": []
  }
 ],
 "metadata": {
  "kernelspec": {
   "display_name": "Python 3",
   "language": "python",
   "name": "python3"
  },
  "language_info": {
   "codemirror_mode": {
    "name": "ipython",
    "version": 3
   },
   "file_extension": ".py",
   "mimetype": "text/x-python",
   "name": "python",
   "nbconvert_exporter": "python",
   "pygments_lexer": "ipython3",
   "version": "3.8.8"
  }
 },
 "nbformat": 4,
 "nbformat_minor": 2
}
